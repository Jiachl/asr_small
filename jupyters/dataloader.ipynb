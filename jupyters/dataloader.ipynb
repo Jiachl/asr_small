{
 "cells": [
  {
   "cell_type": "code",
   "execution_count": 11,
   "id": "1174c947-0321-4831-be15-04dca377ae1a",
   "metadata": {},
   "outputs": [
    {
     "name": "stdout",
     "output_type": "stream",
     "text": [
      "The autoreload extension is already loaded. To reload it, use:\n",
      "  %reload_ext autoreload\n"
     ]
    }
   ],
   "source": [
    "%load_ext autoreload\n",
    "%autoreload 2\n",
    "    \n",
    "import sys\n",
    "sys.path.append('/Users/xinzheng/workspace/chenlong/services/asr_small')\n",
    "import matplotlib.pyplot as plt\n",
    "%matplotlib inline\n",
    "from IPython.display import Audio\n",
    "\n",
    "from dataclasses import dataclass\n",
    "from typing import Any, Dict, List, Optional, Union\n",
    "import numpy as np\n",
    "\n",
    "import torch\n",
    "import torch.nn.functional as func\n",
    "from torch.utils.data import DataLoader\n",
    "import whisper\n",
    "from transformers import WhisperProcessor, WhisperForConditionalGeneration, WhisperModel, WhisperTokenizerFast\n",
    "from datasets import load_dataset, load_from_disk\n",
    "import loralib as lora\n",
    "\n",
    "from smallwhisper import SmallWhisper, SmallWhisperConfig\n"
   ]
  },
  {
   "cell_type": "code",
   "execution_count": 2,
   "id": "28352205-c3a6-4659-b4bf-f140a1f00478",
   "metadata": {},
   "outputs": [],
   "source": [
    "processor = WhisperProcessor.from_pretrained(\"openai/whisper-small\")\n",
    "hf_model = WhisperForConditionalGeneration.from_pretrained(\"openai/whisper-small\")\n",
    "tokenizer = WhisperTokenizerFast.from_pretrained(\"openai/whisper-small\")"
   ]
  },
  {
   "cell_type": "code",
   "execution_count": 3,
   "id": "bfc28f36-6c80-48ee-9218-94eb7d7b0e49",
   "metadata": {},
   "outputs": [],
   "source": [
    "decoder_start_token_id = hf_model.config.decoder_start_token_id  # <|startoftranscript|>\n",
    "decoder_prev_token_id = tokenizer.all_special_ids[-3]  # <|startofprev|>\n"
   ]
  },
  {
   "cell_type": "code",
   "execution_count": 4,
   "id": "a7bdfd5c-401f-40a8-a8f1-2db2a4e9e2e7",
   "metadata": {},
   "outputs": [],
   "source": [
    "small_ds = load_from_disk('/Users/xinzheng/workspace/chenlong/services/asr_small/one_batch.hf/')"
   ]
  },
  {
   "cell_type": "code",
   "execution_count": 5,
   "id": "395e9792-f165-4e5b-8256-4c0efe115502",
   "metadata": {},
   "outputs": [
    {
     "data": {
      "text/plain": [
       "Dataset({\n",
       "    features: ['audio', 'text', 'input_features', 'input_length', 'labels'],\n",
       "    num_rows: 128\n",
       "})"
      ]
     },
     "execution_count": 5,
     "metadata": {},
     "output_type": "execute_result"
    }
   ],
   "source": [
    "small_ds"
   ]
  },
  {
   "cell_type": "code",
   "execution_count": 6,
   "id": "de2d51f8-d593-48d4-81ad-03e7e889fdcd",
   "metadata": {},
   "outputs": [],
   "source": [
    "@dataclass\n",
    "class DataCollatorSpeechSeq2SeqWithPadding:\n",
    "    \"\"\"\n",
    "    Data collator that will dynamically pad the inputs received.\n",
    "    Args:\n",
    "        processor ([`Wav2Vec2Processor`])\n",
    "            The processor used for proccessing the data.\n",
    "        decoder_start_token_id (:obj: `int`)\n",
    "            The start-of-sequence token id of the decoder.\n",
    "        decoder_prev_token_id (:obj: `int`)\n",
    "            The start-of-prompt token id of the decoder\n",
    "        input_padding (:obj:`bool`, :obj:`str` or :class:`~transformers.tokenization_utils_base.PaddingStrategy`, `optional`, defaults to :obj:`True`):\n",
    "            Select a strategy to pad the returned input sequences (according to the model's padding side and padding index)\n",
    "            among:\n",
    "            * :obj:`True` or :obj:`'longest'`: Pad to the longest sequence in the batch (or no padding if only a single\n",
    "              sequence if provided).\n",
    "            * :obj:`'max_length'`: Pad to a maximum length specified with the argument :obj:`max_length` or to the\n",
    "              maximum acceptable input length for the model if that argument is not provided.\n",
    "            * :obj:`False` or :obj:`'do_not_pad'` (default): No padding (i.e., can output a batch with sequences of\n",
    "              different lengths).\n",
    "        target_padding (:obj:`bool`, :obj:`str` or :class:`~transformers.tokenization_utils_base.PaddingStrategy`, `optional`, defaults to :obj:`True`):\n",
    "            Select a strategy to pad the returned target sequences (according to the model's padding side and padding index).\n",
    "            See above for details.\n",
    "        max_target_length (:obj:`int`, `optional`):\n",
    "            Maximum length of the ``labels`` of the returned list and optionally padding length (see above).\n",
    "    \"\"\"\n",
    "\n",
    "    processor: Any\n",
    "    decoder_start_token_id: int\n",
    "    decoder_prev_token_id: int\n",
    "    input_padding: Union[bool, str] = \"max_length\"\n",
    "    target_padding: Union[bool, str] = \"max_length\"\n",
    "    max_target_length: Optional[int] = None\n",
    "\n",
    "    def __call__(self, features: List[Dict[str, Union[List[int], np.ndarray]]]) -> Dict[str, np.ndarray]:\n",
    "        # split inputs and labels since they have to be of different lengths and need\n",
    "        # different padding methods\n",
    "\n",
    "        # dataloader returns a list of features which we convert to a dict\n",
    "        input_features = {\"input_features\": [feature[\"input_features\"] for feature in features]}\n",
    "        label_features = {\"input_ids\": [feature[\"labels\"] for feature in features]}\n",
    "\n",
    "        # reformat list to dict and set to pytorch format\n",
    "        batch = self.processor.feature_extractor.pad(\n",
    "            input_features,\n",
    "            padding=self.input_padding,\n",
    "            return_tensors=\"pt\",\n",
    "        )\n",
    "\n",
    "        labels_batch = self.processor.tokenizer.pad(\n",
    "            label_features,\n",
    "            max_length=self.max_target_length,\n",
    "            padding=self.target_padding,\n",
    "            return_tensors=\"pt\",\n",
    "        )\n",
    "\n",
    "        # shift labels to the right to get decoder input ids\n",
    "        labels = labels_batch[\"input_ids\"]\n",
    "        decoder_input_ids = labels[:, :-1]\n",
    "        labels = labels[:, 1:]\n",
    "        labels_mask = labels_batch.attention_mask[:, 1:]\n",
    "\n",
    "        # replace padding with -100 to ignore correctly when computing the loss\n",
    "        labels = labels.masked_fill(labels_mask.ne(1), -100)\n",
    "\n",
    "        # replace initial prompt tokens with -100 to ignore correctly when computing the loss\n",
    "        bos_index = torch.argmax((labels == self.decoder_start_token_id).long(), dim=1)\n",
    "        bos_index = torch.where(bos_index > 0, bos_index + 1, bos_index)\n",
    "        prompt_mask = torch.arange(labels.shape[1]) < bos_index[:, None]\n",
    "        labels = torch.where(prompt_mask, -100, labels)\n",
    "\n",
    "        batch[\"labels\"] = labels\n",
    "        batch[\"decoder_input_ids\"] = decoder_input_ids\n",
    "\n",
    "        return batch"
   ]
  },
  {
   "cell_type": "code",
   "execution_count": 7,
   "id": "2c35f612-bc21-49ac-8c01-05af95de5f41",
   "metadata": {},
   "outputs": [],
   "source": [
    "data_collator = DataCollatorSpeechSeq2SeqWithPadding(\n",
    "            processor=processor,\n",
    "            decoder_start_token_id=decoder_start_token_id,\n",
    "            decoder_prev_token_id=decoder_prev_token_id,\n",
    "            input_padding=\"longest\",\n",
    "            target_padding=\"max_length\",\n",
    "            max_target_length=448,\n",
    "        )"
   ]
  },
  {
   "cell_type": "code",
   "execution_count": 8,
   "id": "05985ea5-2783-45f3-af62-246673614ffa",
   "metadata": {},
   "outputs": [],
   "source": [
    "train_dataloader = DataLoader(\n",
    "                small_ds,\n",
    "                collate_fn=data_collator,\n",
    "                batch_size=128,\n",
    "            )"
   ]
  },
  {
   "cell_type": "code",
   "execution_count": 21,
   "id": "1cc2b5d2-b9bb-4c92-82aa-97a9c42e994c",
   "metadata": {},
   "outputs": [
    {
     "name": "stdout",
     "output_type": "stream",
     "text": [
      "loading weights from pretrained gpt: small\n"
     ]
    },
    {
     "name": "stderr",
     "output_type": "stream",
     "text": [
      "/Users/xinzheng/miniconda3/envs/asr/lib/python3.11/site-packages/whisper/__init__.py:150: FutureWarning: You are using `torch.load` with `weights_only=False` (the current default value), which uses the default pickle module implicitly. It is possible to construct malicious pickle data which will execute arbitrary code during unpickling (See https://github.com/pytorch/pytorch/blob/main/SECURITY.md#untrusted-models for more details). In a future release, the default value for `weights_only` will be flipped to `True`. This limits the functions that could be executed during unpickling. Arbitrary objects will no longer be allowed to be loaded via this mode unless they are explicitly allowlisted by the user via `torch.serialization.add_safe_globals`. We recommend you start setting `weights_only=True` for any use case where you don't have full control of the loaded file. Please open an issue on GitHub for any issues related to this experimental feature.\n",
      "  checkpoint = torch.load(fp, map_location=device)\n"
     ]
    }
   ],
   "source": [
    "model = SmallWhisper(SmallWhisperConfig).from_pretrained('small')"
   ]
  },
  {
   "cell_type": "code",
   "execution_count": 24,
   "id": "4b13af94-f8a6-4871-9ab8-a0f266d1f15a",
   "metadata": {},
   "outputs": [],
   "source": [
    "lora.mark_only_lora_as_trainable(model, bias='lora_only')"
   ]
  },
  {
   "cell_type": "code",
   "execution_count": null,
   "id": "252df8b3-4e71-471e-8973-8b957109ebe0",
   "metadata": {},
   "outputs": [],
   "source": [
    "optimizer = torch.optim.AdamW(optim_groups, lr=3e-4, betas=betas, fused=use_fused)"
   ]
  },
  {
   "cell_type": "code",
   "execution_count": null,
   "id": "0994c242-05da-4f76-9deb-e722c5f045bc",
   "metadata": {},
   "outputs": [],
   "source": [
    "for batch in train_dataloader:\n",
    "    "
   ]
  },
  {
   "cell_type": "code",
   "execution_count": null,
   "id": "4278057c-2b6c-4868-9f96-099224c6849a",
   "metadata": {},
   "outputs": [],
   "source": []
  },
  {
   "cell_type": "code",
   "execution_count": null,
   "id": "d4b596dc-cd4d-4dc8-a1b4-56df86bf0d47",
   "metadata": {},
   "outputs": [],
   "source": []
  }
 ],
 "metadata": {
  "kernelspec": {
   "display_name": "Python 3 (ipykernel)",
   "language": "python",
   "name": "python3"
  },
  "language_info": {
   "codemirror_mode": {
    "name": "ipython",
    "version": 3
   },
   "file_extension": ".py",
   "mimetype": "text/x-python",
   "name": "python",
   "nbconvert_exporter": "python",
   "pygments_lexer": "ipython3",
   "version": "3.11.9"
  }
 },
 "nbformat": 4,
 "nbformat_minor": 5
}
